{
 "cells": [
  {
   "cell_type": "markdown",
   "metadata": {},
   "source": [
    "# Exo 1\n",
    "\n",
    "On a en entrée une liste d'entiers de taille $N$ \n",
    "\n",
    "$$( a_{i})  _{0\\leqslant i\\leqslant N}$$\n",
    "\n",
    "On cherche une fonction python qui retourne à partir de cette liste la quantité :\n",
    "\n",
    "\n",
    "\n",
    "\n",
    "$$\\underset{0\\leqslant i\\leqslant j\\leqslant N}{max}  ( a_{j} -a_{i})$$\n"
   ]
  },
  {
   "cell_type": "code",
   "execution_count": null,
   "metadata": {},
   "outputs": [],
   "source": [
    "def findMaxOrdered(arr: tuple[int]) -> int:\n",
    "    ..."
   ]
  },
  {
   "cell_type": "code",
   "execution_count": null,
   "metadata": {},
   "outputs": [],
   "source": [
    "assert findMaxOrdered(tuple(range(100))) == 99"
   ]
  },
  {
   "cell_type": "markdown",
   "metadata": {},
   "source": [
    "\n",
    "---\n",
    "\n",
    "# Exo 2\n",
    "\n",
    "Ecrire une fonction python qui prend en entrée un entier $N$ et qui retourne le nombre de zéro à la fin de $N!$"
   ]
  },
  {
   "cell_type": "markdown",
   "metadata": {},
   "source": []
  }
 ],
 "metadata": {
  "kernelspec": {
   "display_name": ".venv",
   "language": "python",
   "name": "python3"
  },
  "language_info": {
   "codemirror_mode": {
    "name": "ipython",
    "version": 3
   },
   "file_extension": ".py",
   "mimetype": "text/x-python",
   "name": "python",
   "nbconvert_exporter": "python",
   "pygments_lexer": "ipython3",
   "version": "3.12.5"
  }
 },
 "nbformat": 4,
 "nbformat_minor": 2
}
